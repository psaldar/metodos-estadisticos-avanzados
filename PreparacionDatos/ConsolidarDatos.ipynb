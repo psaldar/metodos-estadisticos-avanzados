{
 "cells": [
  {
   "cell_type": "markdown",
   "metadata": {},
   "source": [
    "## Notebook para la consolidación de datos"
   ]
  },
  {
   "cell_type": "markdown",
   "metadata": {},
   "source": [
    "Este notebook es el que realiza toda la consolidación  y preprocesamiento de las variables de salida (costos y gastos de venta) y de las variables de entrada (variables macroeconómicas) que serán usadas por el programa de R."
   ]
  },
  {
   "cell_type": "code",
   "execution_count": 1,
   "metadata": {},
   "outputs": [],
   "source": [
    "### Importar librerías\n",
    "import pandas as pd"
   ]
  },
  {
   "cell_type": "markdown",
   "metadata": {},
   "source": [
    "### Parte 1: variables de salida (costos y gastos de venta)"
   ]
  },
  {
   "cell_type": "markdown",
   "metadata": {},
   "source": [
    "Se descargaron de la pagina http://pie.supersociedades.gov.co los archivos que tienen la información de las variables de salida (costos y gastos de ventas),\n",
    "Éstos se guardaron en la carpeta /PreparacionDatos/Data.\n",
    "\n",
    "Se descargan los de los años 2015 a 2018. El análisis de R se enfoca solo en los años de 2016 a 2018, pero se necesita 2015 para las variables en diferencias de 2016."
   ]
  },
  {
   "cell_type": "code",
   "execution_count": 2,
   "metadata": {},
   "outputs": [
    {
     "name": "stderr",
     "output_type": "stream",
     "text": [
      "C:\\Users\\nicol\\Anaconda3\\lib\\site-packages\\ipykernel_launcher.py:2: ParserWarning: Falling back to the 'python' engine because the separator encoded in utf-8 is > 1 char long, and the 'c' engine does not support such separators; you can avoid this warning by specifying engine='python'.\n",
      "  \n",
      "C:\\Users\\nicol\\Anaconda3\\lib\\site-packages\\ipykernel_launcher.py:3: ParserWarning: Falling back to the 'python' engine because the separator encoded in utf-8 is > 1 char long, and the 'c' engine does not support such separators; you can avoid this warning by specifying engine='python'.\n",
      "  This is separate from the ipykernel package so we can avoid doing imports until\n"
     ]
    }
   ],
   "source": [
    "### Leer dataframe de cada year (la de los ERI que es la que tiene los costos y gastos de ventas)\n",
    "dat2015 = pd.read_csv('Data/EstadoResultadosIntegrales(ERI)2015.txt', sep='¬')\n",
    "dat2016 = pd.read_csv('Data/EstadoResultadosIntegrales(ERI)2016.txt', sep='¬')\n",
    "dat2017 = pd.read_excel('Data/NIIF Plenas Individuales2017.xlsx', sheet_name='Estado de Resultados Integrales')\n",
    "dat2018 = pd.read_excel('Data/NIIF Plenas Individuales2018.xlsx', sheet_name='ERI')\n",
    "\n",
    "### Corregir el nombre de la columna NIT de 2018 para que quede igual a la de los demas\n",
    "dat2018 = dat2018.rename(columns={\"Nit\": \"NIT\"})\n"
   ]
  },
  {
   "cell_type": "markdown",
   "metadata": {},
   "source": [
    "##### Dejar solo las empresas de la clasifiacion industrial internacion uniformeseleccionada. En este caso, usaremos solo empresas relacionadas con \"construcción\".\n",
    "\n",
    "Se dejan solo las empresas que tengan la palabra 'construcción' en su clasificacion uniforme (nos basaremos en las del 2018 para obtener los NIT de esas empresas, \n",
    "y luego filtraremos los dataframes de years pasados para dejar solo esos NIT).\n",
    "\n",
    "NOTA: solo se tienen en cuenta las empresas que pertenecen a los archivo de Plenas y de Individuales."
   ]
  },
  {
   "cell_type": "code",
   "execution_count": 3,
   "metadata": {},
   "outputs": [],
   "source": [
    "\n",
    "### Leer archivo guia donde esta la clasificacion uniforme para saber que NITs conservar\n",
    "guia_empresas =  pd.read_excel('Data/NIIF Plenas Individuales2018.xlsx', sheet_name='Caratula').rename(columns={\"Nit\": \"NIT\"})\n",
    "\n",
    "\n",
    "\n",
    "### Pasar todo a minuscula la columna de clasificacion\n",
    "guia_empresas['clasificacion'] = guia_empresas['Clasificación Industrial Internacional Uniforme Versión 4 A.C'].str.lower()\n",
    "\n",
    "### Dejar solo las que tengan la palabra \"construcción\" en su clasificacion\n",
    "empresas_usar = guia_empresas[guia_empresas['clasificacion'].str.contains(\"construcción\")]"
   ]
  },
  {
   "cell_type": "code",
   "execution_count": 4,
   "metadata": {},
   "outputs": [],
   "source": [
    "\n",
    "### Extraer NIT de las empresas a incluir\n",
    "NIT_empresas = list(empresas_usar['NIT'].values)\n",
    "\n",
    "\n",
    "### Verificar cuales de esos NIT aparecen en los 4 years (2015 a 2018)\n",
    "nit_todos_periodos = []\n",
    "for nit in NIT_empresas:\n",
    "    if nit in dat2015['NIT'].values and nit in dat2016['NIT'].values and nit in dat2017['NIT'].values and nit in dat2018['NIT'].values:\n",
    "        nit_todos_periodos.append(nit)\n",
    "\n",
    "\n",
    "\n",
    "#### Agregar la columna year a cada datafame\n",
    "dat2015['Year'] = 2015\n",
    "dat2016['Year'] = 2016\n",
    "dat2017['Year'] = 2017\n",
    "dat2018['Year'] = 2018\n",
    "\n",
    "### Gastos de ventas de 2017 se llamaba Costos de distribución\n",
    "dat2017['Gastos de ventas'] = dat2017['Costos de distribución']\n",
    "\n",
    "\n",
    "\n",
    "### Dejar solo los periodos actuales en 2017 y 2018\n",
    "dat2017 = dat2017[dat2017['PERIODO']=='2017']\n",
    "dat2018 = dat2018[dat2018['Periodo']=='Periodo Actual']\n"
   ]
  },
  {
   "cell_type": "code",
   "execution_count": 5,
   "metadata": {},
   "outputs": [],
   "source": [
    "\n",
    "#### Filtrar los dataframe para dejar solo los nit indicados y\n",
    "### conservar solo las columnqs de Nit, gatos de ventas y costo de ventas\n",
    "dat_2015_f = dat2015[dat2015['NIT'].isin(nit_todos_periodos)][['NIT','Year','Costo de ventas', 'Gastos de ventas']]\n",
    "dat_2016_f = dat2016[dat2016['NIT'].isin(nit_todos_periodos)][['NIT','Year','Costo de ventas', 'Gastos de ventas']]\n",
    "dat_2017_f = dat2017[dat2017['NIT'].isin(nit_todos_periodos)][['NIT','Year','Costo de ventas', 'Gastos de ventas']]\n",
    "dat_2018_f = dat2018[dat2018['NIT'].isin(nit_todos_periodos)][['NIT','Year','Costo de ventas', 'Gastos de ventas']]\n",
    "\n",
    "\n",
    "### Quitar duplicados de 2015 (quedarse con el primero)\n",
    "dat_2015_f.drop_duplicates(inplace=True, subset=['NIT']) \n",
    "\n",
    "### Ordenar cada dataframe por Nit\n",
    "dat_2015_auxi = dat_2015_f.sort_values(by='NIT').reset_index(drop=True)\n",
    "dat_2016_auxi = dat_2016_f.sort_values(by='NIT').reset_index(drop=True)\n",
    "dat_2017_auxi = dat_2017_f.sort_values(by='NIT').reset_index(drop=True)\n",
    "dat_2018_auxi = dat_2018_f.sort_values(by='NIT').reset_index(drop=True)"
   ]
  },
  {
   "cell_type": "markdown",
   "metadata": {},
   "source": [
    "Se usa la variación porcentual anual como la variable de salida. Por ejemplo, la fórmula para la variación porcentual anual de costos de venta sería esta:"
   ]
  },
  {
   "cell_type": "markdown",
   "metadata": {},
   "source": [
    "$ CostoDeVentasDif(t) = \\dfrac{CostoDeVentas(t) – CostoDeVentas(t-1)}{|CostoDeVentas(t-1)|} $"
   ]
  },
  {
   "cell_type": "markdown",
   "metadata": {},
   "source": [
    "Se usa una fórmula análoga para gastos de venta.\n",
    "\n",
    "NOTA: se acalara que en el análisis de R se aplica una transformación de logaritmo tanto a saldias como entradas, pero en este notebook de Python solo se llega hasta la parte de dejar las salidas y muchas de las entradas como variaciones porcentuales anuales."
   ]
  },
  {
   "cell_type": "code",
   "execution_count": 6,
   "metadata": {},
   "outputs": [],
   "source": [
    "### Calular valores en variación porcentual anual de costo de ventas y gastos de ventas\n",
    "dat_2016_auxi['Costo de ventas_dif'] = (dat_2016_auxi['Costo de ventas'] - dat_2015_auxi['Costo de ventas'])/dat_2015_auxi['Costo de ventas']\n",
    "dat_2017_auxi['Costo de ventas_dif'] = (dat_2017_auxi['Costo de ventas'] - dat_2016_auxi['Costo de ventas'])/dat_2016_auxi['Costo de ventas']\n",
    "dat_2018_auxi['Costo de ventas_dif'] = (dat_2018_auxi['Costo de ventas'] - dat_2017_auxi['Costo de ventas'])/dat_2017_auxi['Costo de ventas']\n",
    "dat_2016_auxi['Gastos de ventas_dif'] = (dat_2016_auxi['Gastos de ventas'] - dat_2015_auxi['Gastos de ventas'])/dat_2015_auxi['Gastos de ventas']\n",
    "dat_2017_auxi['Gastos de ventas_dif'] = (dat_2017_auxi['Gastos de ventas'] - dat_2016_auxi['Gastos de ventas'])/dat_2016_auxi['Gastos de ventas']\n",
    "dat_2018_auxi['Gastos de ventas_dif'] = (dat_2018_auxi['Gastos de ventas'] - dat_2017_auxi['Gastos de ventas'])/dat_2017_auxi['Gastos de ventas']\n"
   ]
  },
  {
   "cell_type": "code",
   "execution_count": 7,
   "metadata": {},
   "outputs": [],
   "source": [
    "### Identificar empresas con un NaN en alguna de sus filas\n",
    "### Eliminar las empresas que tengan al menos un NaN en algun year\n",
    "nans2016 = dat_2016_auxi[dat_2016_auxi.isnull().any(axis=1)].index\n",
    "nans2017 = dat_2017_auxi[dat_2017_auxi.isnull().any(axis=1)].index\n",
    "nans2018 = dat_2018_auxi[dat_2018_auxi.isnull().any(axis=1)].index\n",
    "\n",
    "#### Tambien las que tengan un 0 en costo o gasto (esto debe ser un error)\n",
    "ceros2016 = dat_2016_auxi[(dat_2016_auxi==0).any(axis=1)].index\n",
    "ceros2017 = dat_2017_auxi[dat_2017_auxi.isnull().any(axis=1)].index\n",
    "ceros2018 = dat_2018_auxi[(dat_2018_auxi==0).any(axis=1)].index\n",
    "\n",
    "\n",
    "### Indices a remover\n",
    "indices_remover = list(set(nans2016) | set(nans2017) | set(nans2018) | set(ceros2016) | set(ceros2018))  ## falta ceros 2017 \n",
    "\n",
    "### Indices a conservar\n",
    "indices_conservar = list(set(range(len(dat_2018_auxi))) - set(indices_remover))\n",
    "\n",
    "\n",
    "### Dejar solo empresas sin ningun NaN\n",
    "dat_2016_fin = dat_2016_auxi.iloc[indices_conservar].reset_index(drop=True)\n",
    "dat_2017_fin = dat_2017_auxi.iloc[indices_conservar].reset_index(drop=True)\n",
    "dat_2018_fin = dat_2018_auxi.iloc[indices_conservar].reset_index(drop=True)\n"
   ]
  },
  {
   "cell_type": "code",
   "execution_count": 8,
   "metadata": {},
   "outputs": [],
   "source": [
    "\n",
    "#### Crear dataframe con las variables de salida\n",
    "\n",
    "### Juntar las de 2016, 2017 y 2017 (version fin) en un solo dataframe\n",
    "salidas_temp = pd.concat([dat_2016_fin, dat_2017_fin, dat_2018_fin]).reset_index(drop=True)\n",
    "\n",
    "\n"
   ]
  },
  {
   "cell_type": "markdown",
   "metadata": {},
   "source": [
    "Guardar las variables de salida en un csv."
   ]
  },
  {
   "cell_type": "code",
   "execution_count": 9,
   "metadata": {},
   "outputs": [],
   "source": [
    "### Guardar csv con las variables de salida\n",
    "salidas_temp.to_csv('Auxi/Costos_Gastos_ventas.csv', index=False)\n"
   ]
  },
  {
   "cell_type": "markdown",
   "metadata": {},
   "source": [
    "Más adelante usaremos de nuevo este dataframe. Por ahora, procesaremos las variables explicativas."
   ]
  },
  {
   "cell_type": "markdown",
   "metadata": {},
   "source": [
    "### Parte 2: Variables macroeconómicas\n"
   ]
  },
  {
   "cell_type": "markdown",
   "metadata": {},
   "source": [
    "En esta seccción se consolidan y preprocesan las variables macroeconómicas. Los archivos que contienen los valores de estas variables macroeconómicas se guardan en la carpeta /PreparacionDatos/MacroVars. Estos archivos fueron extraídos de las páginas del Banco de la República y del DANE."
   ]
  },
  {
   "cell_type": "code",
   "execution_count": 10,
   "metadata": {},
   "outputs": [],
   "source": [
    "### Se crea una lista de years, un diccionario para los cruces y un diccionario para cada year\n",
    "dic_cruces = {}\n",
    "years = [2016, 2017, 2018]\n",
    "years_aux = [2015, 2016, 2017, 2018]   ### Estos son para calcular variacion porcentual\n",
    "for y in years:\n",
    "    dic_cruces[y] = {}"
   ]
  },
  {
   "cell_type": "markdown",
   "metadata": {},
   "source": [
    "##### TRM"
   ]
  },
  {
   "cell_type": "code",
   "execution_count": 11,
   "metadata": {},
   "outputs": [],
   "source": [
    "\n",
    "### Se toma la TRM anualizada\n",
    "### Se calcula la variación porcentual anual para esta variable\n",
    "    \n",
    "trm = pd.read_excel('MacroVars/trm.xlsx', skiprows=7)\n",
    "lista_aux = []\n",
    "for y in years_aux:\n",
    "    lista_aux.append(trm['Annual Average Market Exchange Rate (Colombian pesos)'][trm['Year']==y].values[0])\n",
    "\n",
    "voyvo = 0\n",
    "for y in years:\n",
    "    anterior = lista_aux[voyvo]\n",
    "    actual = lista_aux[voyvo+1]\n",
    "    dic_cruces[y]['TRM'] =  (actual-anterior)/abs(anterior)\n",
    "    voyvo = voyvo+1\n"
   ]
  },
  {
   "cell_type": "markdown",
   "metadata": {},
   "source": [
    "###### PIB"
   ]
  },
  {
   "cell_type": "code",
   "execution_count": 12,
   "metadata": {},
   "outputs": [],
   "source": [
    "### Se toma la columna que representa la varación porcentual anual del PIB\n",
    "### (no es necesario que nosotros la transformemos)\n",
    "    \n",
    "pib = pd.read_excel('MacroVars/pib.xls', skiprows=4)\n",
    "## La primera columna es el año.\n",
    "pib = pib.rename(columns={pib.columns[0]: \"Year\"})\n",
    "\n",
    "for y in years:\n",
    "    ### Correccion para el de 2018\n",
    "    estepib = y\n",
    "    if estepib == 2018:\n",
    "        estepib='2018 (p)'\n",
    "    dic_cruces[y]['PIB'] = pib['Variación porcentual'][pib['Year']==estepib].values[0]/100\n"
   ]
  },
  {
   "cell_type": "markdown",
   "metadata": {},
   "source": [
    "##### Desempleo"
   ]
  },
  {
   "cell_type": "code",
   "execution_count": 13,
   "metadata": {},
   "outputs": [],
   "source": [
    "### Aqui lo que se tiene es la tasa de desempleo mensual\n",
    "### Para anualizar esta tasa, usaremos la aproximacion de usar el promedio \n",
    "### de todos los meses de cada year\n",
    "    \n",
    "### Esta variable se deja como la tasa anual (no se lleva a variación porcentual,\n",
    "### se decide dejarla como la tasa la cual ya representa un porcentaje)\n",
    "    \n",
    "desempleo = pd.read_excel('MacroVars/desempleo.xlsx', skiprows=8, nrows=225) \n",
    "desempleo['Year'] = desempleo['Año(aaaa)-Mes(mm)'].str[:4]\n",
    "for y in years:\n",
    "    dic_cruces[y]['Desempleo'] = desempleo['Tasa de desempleo (%)'][desempleo['Year']==str(y)].mean() / 100\n"
   ]
  },
  {
   "cell_type": "markdown",
   "metadata": {},
   "source": [
    "##### Inflación"
   ]
  },
  {
   "cell_type": "code",
   "execution_count": 14,
   "metadata": {},
   "outputs": [],
   "source": [
    "### Aqui basta simplemente con tomar la inflacion de año corrido en diciembre\n",
    "### de cada año. Se divide sobre 100 para que quede en escala real y no con %.\n",
    "    \n",
    "### Esta variable ya de por sí representaría una variación porcentual en los precios\n",
    "### (no es necesario que nosotros la transformemos)\n",
    "    \n",
    "inflacion = pd.read_excel('MacroVars/inflacion.xlsx', skiprows=6)\n",
    "inflacion.index=inflacion['Mes']\n",
    "for y in years:\n",
    "    dic_cruces[y]['Inflacion'] = inflacion[y]['En año corrido']/100 "
   ]
  },
  {
   "cell_type": "markdown",
   "metadata": {},
   "source": [
    "##### Tasa de intervención"
   ]
  },
  {
   "cell_type": "code",
   "execution_count": 15,
   "metadata": {},
   "outputs": [],
   "source": [
    "### Aqui lo que se tiene es la tasa de intervencion diaria (solo para dias habiles)\n",
    "### Para anualizar esta tasa, usaremos la aproximacion de usar el promedio \n",
    "### de todos los dias de cada year en los que hay registro (todos los dias habiles)\n",
    "\n",
    "### Esta variable se deja como la tasa anual (no se lleva a variación porcentual,\n",
    "### se decide dejarla como la tasa la cual ya representa un porcentaje)\n",
    "\n",
    "tasa_interv = pd.read_excel('MacroVars/tasa_intervencion_diaria.xlsx', skiprows=7, nrows=5000) \n",
    "tasa_interv['Year'] = tasa_interv['Fecha (dd/mm/aaaa)'].dt.year\n",
    "\n",
    "\n",
    "lista_aux = []\n",
    "for y in years_aux:\n",
    "    lista_aux.append(tasa_interv['Tasa de intervención de política monetaria'][tasa_interv['Year']==y].mean())\n",
    "\n",
    "voyvo = 0\n",
    "for y in years:\n",
    "    anterior = lista_aux[voyvo]\n",
    "    actual = lista_aux[voyvo+1]\n",
    "#    dic_cruces[y]['Tasa_Intervencion'] =  (actual-anterior)/abs(anterior)   ### Como variacion porcentual\n",
    "    dic_cruces[y]['Tasa_Intervencion'] =  actual  ### Como la tasa de cada year\n",
    "    voyvo = voyvo+1\n",
    "\n"
   ]
  },
  {
   "cell_type": "markdown",
   "metadata": {},
   "source": [
    "##### Balance en Cuenta Corriente"
   ]
  },
  {
   "cell_type": "code",
   "execution_count": 16,
   "metadata": {},
   "outputs": [],
   "source": [
    "### Usar la columna de cada año, en la fila que tiene el valor para cuenta corriente\n",
    "### Se calcula la variación porcentual anual para esta variable\n",
    "    \n",
    "bal_cc = pd.read_excel('MacroVars/balance_cc.xlsx', skiprows=10)\n",
    "estos_years =  ['2015 (r)', '2016 (r)', '2017 (pr)', '2018 (pr)']\n",
    "voyen = 0\n",
    "bal_cc.index=bal_cc['Cuenta']\n",
    "for y in years:\n",
    "    anterior = bal_cc[estos_years[voyen]]['1 Cuenta corriente']\n",
    "    actual = bal_cc[estos_years[voyen+1]]['1 Cuenta corriente']\n",
    "    dic_cruces[y]['Balance_CC'] = (actual-anterior)/abs(anterior)\n",
    "    voyen = voyen+1\n",
    "    "
   ]
  },
  {
   "cell_type": "markdown",
   "metadata": {},
   "source": [
    "##### Balance Fiscal"
   ]
  },
  {
   "cell_type": "code",
   "execution_count": 17,
   "metadata": {},
   "outputs": [],
   "source": [
    "### Usar la columna 'DEFICIT (-) O SUPERAVIT (+)' como el balance_fiscal para cada año.\n",
    "### Se calcula la variación porcentual anual para esta variable    \n",
    "\n",
    "bal_fiscal = pd.read_excel('MacroVars/balance_fiscal.xls', skiprows=4)\n",
    "bal_fiscal = bal_fiscal.rename(columns={bal_fiscal.columns[1]: \"Year\"})\n",
    "estos_years =  ['2015 (pr)', '2016 (pr)', '2017 (pr)', '2018 (pr)']\n",
    "voyen = 0\n",
    "for y in years:\n",
    "    anterior = bal_fiscal['DEFICIT (-) O SUPERAVIT (+)'][bal_fiscal['Year']==estos_years[voyen]].values[0]\n",
    "    actual = bal_fiscal['DEFICIT (-) O SUPERAVIT (+)'][bal_fiscal['Year']==estos_years[voyen+1]].values[0]\n",
    "    dic_cruces[y]['Balance_Fiscal'] = (actual-anterior)/abs(anterior)\n",
    "    voyen = voyen+1\n",
    "    \n",
    "    "
   ]
  },
  {
   "cell_type": "markdown",
   "metadata": {},
   "source": [
    "### Parte 3: cruzar variables de salida y variables explicativa para generar el dataset consolidado"
   ]
  },
  {
   "cell_type": "code",
   "execution_count": 18,
   "metadata": {},
   "outputs": [],
   "source": [
    "### Leer el de salidas\n",
    "salidas_son = pd.read_csv('Auxi/Costos_Gastos_ventas.csv')"
   ]
  },
  {
   "cell_type": "code",
   "execution_count": 19,
   "metadata": {},
   "outputs": [],
   "source": [
    "### Construccion de dataframe completa\n",
    "data_full = salidas_son.copy()\n"
   ]
  },
  {
   "cell_type": "code",
   "execution_count": 20,
   "metadata": {},
   "outputs": [],
   "source": [
    "### Nombres de las variables\n",
    "vars_son = list(dic_cruces[2016].keys())  ### Nombres de variables (son iguales para todos los años)\n"
   ]
  },
  {
   "cell_type": "code",
   "execution_count": 21,
   "metadata": {},
   "outputs": [],
   "source": [
    "### Hacer los cruces\n",
    "for v in vars_son:\n",
    "    lista_v = []\n",
    "    for y in salidas_son['Year']:\n",
    "        lista_v.append(dic_cruces[y][v])\n",
    "    data_full[v] = lista_v\n"
   ]
  },
  {
   "cell_type": "markdown",
   "metadata": {},
   "source": [
    "###### Guardar el dataframe final consolidado."
   ]
  },
  {
   "cell_type": "code",
   "execution_count": 22,
   "metadata": {},
   "outputs": [],
   "source": [
    "data_full.to_csv('Datos_completos.csv', index=None)"
   ]
  },
  {
   "cell_type": "markdown",
   "metadata": {},
   "source": [
    "El archivo \"Datos_completos.csv\" es el que es usado por el programa de R (es el archivo que el programa de R lee al inicio)."
   ]
  }
 ],
 "metadata": {
  "kernelspec": {
   "display_name": "Python 3",
   "language": "python",
   "name": "python3"
  },
  "language_info": {
   "codemirror_mode": {
    "name": "ipython",
    "version": 3
   },
   "file_extension": ".py",
   "mimetype": "text/x-python",
   "name": "python",
   "nbconvert_exporter": "python",
   "pygments_lexer": "ipython3",
   "version": "3.6.5"
  }
 },
 "nbformat": 4,
 "nbformat_minor": 2
}
