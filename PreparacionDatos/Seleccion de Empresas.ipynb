{
 "cells": [
  {
   "cell_type": "code",
   "execution_count": null,
   "metadata": {},
   "outputs": [],
   "source": []
  },
  {
   "cell_type": "code",
   "execution_count": null,
   "metadata": {},
   "outputs": [],
   "source": []
  },
  {
   "cell_type": "code",
   "execution_count": 4,
   "metadata": {},
   "outputs": [],
   "source": [
    "import random\n",
    "import numpy as np\n",
    "import pandas as pd\n",
    "from itertools import combinations\n",
    "from sklearn.preprocessing import StandardScaler"
   ]
  },
  {
   "cell_type": "code",
   "execution_count": null,
   "metadata": {},
   "outputs": [],
   "source": []
  },
  {
   "cell_type": "code",
   "execution_count": 5,
   "metadata": {},
   "outputs": [],
   "source": [
    "data = pd.read_csv('Datos_completos.csv')\n",
    "empresas = data['NIT'].unique()"
   ]
  },
  {
   "cell_type": "code",
   "execution_count": 6,
   "metadata": {},
   "outputs": [
    {
     "data": {
      "text/plain": [
       "33"
      ]
     },
     "execution_count": 6,
     "metadata": {},
     "output_type": "execute_result"
    }
   ],
   "source": [
    "### Cantidad de empresas\n",
    "len(empresas)"
   ]
  },
  {
   "cell_type": "code",
   "execution_count": 9,
   "metadata": {},
   "outputs": [],
   "source": [
    "def diff_media(data, empresas1, empresas2):\n",
    "    \n",
    "    scaler = StandardScaler()\n",
    "    scaler.fit(data.drop(columns = ['NIT','Year']))\n",
    "    \n",
    "    data_empresa1 = scaler.transform(data[data['NIT'].isin(empresas1)].drop(columns = ['NIT','Year'])) \n",
    "    data_empresa2 = scaler.transform(data[data['NIT'].isin(empresas2)].drop(columns = ['NIT','Year']))\n",
    "  \n",
    "    mean_empresa1 = np.mean(data_empresa1, axis = 0, keepdims=True)\n",
    "    mean_empresa2 = np.mean(data_empresa2, axis = 0, keepdims=True)\n",
    "    \n",
    "    norm_dif = np.linalg.norm(mean_empresa1-mean_empresa2,  ord = 2 )\n",
    "    \n",
    "    return norm_dif"
   ]
  },
  {
   "cell_type": "code",
   "execution_count": 20,
   "metadata": {
    "scrolled": false
   },
   "outputs": [
    {
     "name": "stdout",
     "output_type": "stream",
     "text": [
      "0.7524247131773183 0\n",
      "0.6026785273047448 2\n",
      "0.5308748373922801 11\n",
      "0.521793226443431 41\n",
      "0.49113344704939704 49\n",
      "0.4797184437104368 115\n",
      "0.43732363381613154 251\n",
      "0.4274903204860129 391\n",
      "0.3843035611474173 401\n",
      "0.37004716424802814 537\n",
      "0.36389454090224005 542\n",
      "0.3608021673553538 590\n",
      "0.3481642282591769 757\n",
      "0.3379794012417565 810\n",
      "0.3320549602998513 1179\n",
      "0.3182847668174496 1198\n",
      "0.31682615830286504 1201\n",
      "0.28173750480595394 2914\n",
      "0.2414346026674287 4203\n",
      "0.19260511462028024 5917\n",
      "0.15002449965494935 7206\n",
      "0.14282382992678203 11287\n",
      "0.13773476960242892 23508\n",
      "0.13018024420622315 24300\n",
      "0.09521724933277259 716892\n",
      "Wall time: 1h 58s\n"
     ]
    }
   ],
   "source": [
    "%%time\n",
    "\n",
    "np.random.seed(42)\n",
    "best_norm = np.inf\n",
    "best_empresa_comb = None\n",
    "lim = 25000\n",
    "cont = 0\n",
    "for p in combinations(empresas, 22):\n",
    "    \n",
    "    emp1 = [emp for emp in empresas if emp in p]\n",
    "    emp2 = [emp for emp in empresas if not emp in p]\n",
    "    \n",
    "    norm_value = diff_media(data, emp1, emp2)\n",
    "    \n",
    "    if norm_value < best_norm:\n",
    "        print(norm_value, cont)\n",
    "        best_empresa_com = (emp1,emp2)\n",
    "        best_norm = norm_value\n",
    "    \n",
    "    cont += 1\n",
    "    if cont == lim:\n",
    "        break"
   ]
  },
  {
   "cell_type": "code",
   "execution_count": 21,
   "metadata": {},
   "outputs": [
    {
     "data": {
      "text/plain": [
       "[800015615,\n",
       " 800045720,\n",
       " 800081030,\n",
       " 800112440,\n",
       " 800118660,\n",
       " 800157469,\n",
       " 800232356,\n",
       " 800236890,\n",
       " 801002644,\n",
       " 805012368,\n",
       " 830030574,\n",
       " 860009694,\n",
       " 860030360,\n",
       " 860050956,\n",
       " 890117431,\n",
       " 890311366,\n",
       " 890904459,\n",
       " 900173460,\n",
       " 900184722,\n",
       " 900234565,\n",
       " 900364670,\n",
       " 900389088]"
      ]
     },
     "execution_count": 21,
     "metadata": {},
     "output_type": "execute_result"
    }
   ],
   "source": [
    "### Mejor combinacion de empresas\n",
    "emp1"
   ]
  },
  {
   "cell_type": "code",
   "execution_count": 22,
   "metadata": {},
   "outputs": [
    {
     "data": {
      "text/plain": [
       "[806014553,\n",
       " 830037495,\n",
       " 830052054,\n",
       " 860033653,\n",
       " 860501682,\n",
       " 890300012,\n",
       " 890909034,\n",
       " 890929951,\n",
       " 900204182,\n",
       " 900378893,\n",
       " 900437650]"
      ]
     },
     "execution_count": 22,
     "metadata": {},
     "output_type": "execute_result"
    }
   ],
   "source": [
    "emp2"
   ]
  },
  {
   "cell_type": "code",
   "execution_count": null,
   "metadata": {},
   "outputs": [],
   "source": []
  }
 ],
 "metadata": {
  "kernelspec": {
   "display_name": "Python 3",
   "language": "python",
   "name": "python3"
  },
  "language_info": {
   "codemirror_mode": {
    "name": "ipython",
    "version": 3
   },
   "file_extension": ".py",
   "mimetype": "text/x-python",
   "name": "python",
   "nbconvert_exporter": "python",
   "pygments_lexer": "ipython3",
   "version": "3.7.3"
  }
 },
 "nbformat": 4,
 "nbformat_minor": 2
}
