{
 "cells": [
  {
   "cell_type": "code",
   "execution_count": null,
   "metadata": {},
   "outputs": [],
   "source": []
  },
  {
   "cell_type": "code",
   "execution_count": null,
   "metadata": {},
   "outputs": [],
   "source": []
  },
  {
   "cell_type": "code",
   "execution_count": 1,
   "metadata": {},
   "outputs": [],
   "source": [
    "import random\n",
    "import numpy as np\n",
    "import pandas as pd\n",
    "from itertools import combinations\n",
    "from sklearn.preprocessing import StandardScaler"
   ]
  },
  {
   "cell_type": "code",
   "execution_count": null,
   "metadata": {},
   "outputs": [],
   "source": []
  },
  {
   "cell_type": "code",
   "execution_count": 2,
   "metadata": {},
   "outputs": [],
   "source": [
    "data = pd.read_csv('Datos_completos.csv')\n",
    "data = data.drop(columns = ['Costo de ventas','Gastos de ventas'])\n",
    "empresas = data['NIT'].unique()"
   ]
  },
  {
   "cell_type": "code",
   "execution_count": 3,
   "metadata": {},
   "outputs": [
    {
     "data": {
      "text/plain": [
       "33"
      ]
     },
     "execution_count": 3,
     "metadata": {},
     "output_type": "execute_result"
    }
   ],
   "source": [
    "### Cantidad de empresas\n",
    "len(empresas)"
   ]
  },
  {
   "cell_type": "code",
   "execution_count": 13,
   "metadata": {},
   "outputs": [
    {
     "data": {
      "text/plain": [
       "Index(['NIT', 'Year', 'Costo de ventas_dif', 'Gastos de ventas_dif', 'TRM',\n",
       "       'PIB', 'Desempleo', 'Inflacion', 'Tasa_Intervencion', 'Balance_CC',\n",
       "       'Balance_Fiscal'],\n",
       "      dtype='object')"
      ]
     },
     "execution_count": 13,
     "metadata": {},
     "output_type": "execute_result"
    }
   ],
   "source": [
    "data.columns"
   ]
  },
  {
   "cell_type": "code",
   "execution_count": 20,
   "metadata": {},
   "outputs": [],
   "source": [
    "def diff_media(data, empresas1, empresas2):\n",
    "    \n",
    "#    scaler = StandardScaler()\n",
    "#    scaler.fit(data.drop(columns = ['NIT','Year']))\n",
    "    \n",
    "#    data_empresa1 = scaler.transform(data[data['NIT'].isin(empresas1)].drop(columns = ['NIT','Year'])) \n",
    "#    data_empresa2 = scaler.transform(data[data['NIT'].isin(empresas2)].drop(columns = ['NIT','Year']))\n",
    "    \n",
    "#    mean_empresa1 = np.mean(data_empresa1, axis = 0, keepdims=True)\n",
    "#    mean_empresa2 = np.mean(data_empresa2, axis = 0, keepdims=True)\n",
    "    \n",
    "    data_empresa1 = data[data['NIT'].isin(empresas1)]['Costo de ventas_dif'] \n",
    "    data_empresa2 = data[data['NIT'].isin(empresas2)]['Costo de ventas_dif']\n",
    "  \n",
    "    mean_empresa1 = data_empresa1.mean()\n",
    "    mean_empresa2 = data_empresa2.mean()\n",
    "    \n",
    "    norm_dif = (mean_empresa1-mean_empresa2)**2\n",
    "    \n",
    "    return norm_dif"
   ]
  },
  {
   "cell_type": "code",
   "execution_count": 21,
   "metadata": {
    "scrolled": false
   },
   "outputs": [
    {
     "name": "stdout",
     "output_type": "stream",
     "text": [
      "0.016770199391232855 0\n",
      "0.0038988992173910626 2\n",
      "0.0020920726060926495 34\n",
      "8.724805312215589e-05 41\n",
      "4.217734972101327e-05 251\n",
      "3.270327613552945e-06 264\n",
      "1.360494145224962e-06 661\n",
      "5.324934345321799e-07 759\n",
      "2.512490867977149e-07 760\n",
      "1.5235191104070993e-08 1055\n",
      "7.155460472918056e-09 4131\n",
      "4.5359346093228465e-09 4232\n",
      "2.611001864883461e-09 9344\n",
      "2.3140959472729717e-10 19081\n",
      "1.7335723581479037e-10 23527\n",
      "5.297777131209481e-12 23930\n",
      "3.2645956171741084e-12 99899\n",
      "Wall time: 2min 8s\n"
     ]
    }
   ],
   "source": [
    "%%time\n",
    "\n",
    "np.random.seed(42)\n",
    "best_norm = np.inf\n",
    "best_empresa_comb = None\n",
    "lim = 100000\n",
    "cont = 0\n",
    "for p in combinations(empresas, 22):\n",
    "    \n",
    "    emp1 = [emp for emp in empresas if emp in p]\n",
    "    emp2 = [emp for emp in empresas if not emp in emp1]\n",
    "    \n",
    "    norm_value = diff_media(data, emp1, emp2)\n",
    "    \n",
    "    if norm_value < best_norm:\n",
    "        print(norm_value, cont)\n",
    "        best_empresa_com = (emp1,emp2)\n",
    "        best_norm = norm_value\n",
    "    \n",
    "    cont += 1\n",
    "    if cont == lim:\n",
    "        break"
   ]
  },
  {
   "cell_type": "code",
   "execution_count": 31,
   "metadata": {},
   "outputs": [
    {
     "data": {
      "text/plain": [
       "-0.03801533473757241"
      ]
     },
     "execution_count": 31,
     "metadata": {},
     "output_type": "execute_result"
    }
   ],
   "source": [
    "data_empresa1 = data[data['NIT'].isin(best_empresa_com[0])]['Costo de ventas_dif'] \n",
    "data_empresa1.mean()"
   ]
  },
  {
   "cell_type": "code",
   "execution_count": 32,
   "metadata": {},
   "outputs": [
    {
     "data": {
      "text/plain": [
       "-0.038013527918373605"
      ]
     },
     "execution_count": 32,
     "metadata": {},
     "output_type": "execute_result"
    }
   ],
   "source": [
    "data_empresa2 = data[data['NIT'].isin(best_empresa_com[1])]['Costo de ventas_dif'] \n",
    "data_empresa2.mean()"
   ]
  },
  {
   "cell_type": "code",
   "execution_count": 33,
   "metadata": {},
   "outputs": [],
   "source": [
    "mean_empresa1 = data_empresa1.mean()\n",
    "mean_empresa2 = data_empresa2.mean()\n",
    "\n",
    "norm_dif = (mean_empresa1-mean_empresa2)**2"
   ]
  },
  {
   "cell_type": "code",
   "execution_count": 34,
   "metadata": {},
   "outputs": [
    {
     "data": {
      "text/plain": [
       "3.2645956171741084e-12"
      ]
     },
     "execution_count": 34,
     "metadata": {},
     "output_type": "execute_result"
    }
   ],
   "source": [
    "norm_dif"
   ]
  },
  {
   "cell_type": "code",
   "execution_count": 29,
   "metadata": {},
   "outputs": [
    {
     "data": {
      "text/plain": [
       "[800015615,\n",
       " 800045720,\n",
       " 800081030,\n",
       " 800112440,\n",
       " 800118660,\n",
       " 800157469,\n",
       " 800232356,\n",
       " 800236890,\n",
       " 801002644,\n",
       " 805012368,\n",
       " 806014553,\n",
       " 830030574,\n",
       " 830037495,\n",
       " 860009694,\n",
       " 860033653,\n",
       " 860050956,\n",
       " 890909034,\n",
       " 900173460,\n",
       " 900184722,\n",
       " 900204182,\n",
       " 900364670,\n",
       " 900378893]"
      ]
     },
     "execution_count": 29,
     "metadata": {},
     "output_type": "execute_result"
    }
   ],
   "source": []
  },
  {
   "cell_type": "code",
   "execution_count": 30,
   "metadata": {},
   "outputs": [
    {
     "data": {
      "text/plain": [
       "[830052054,\n",
       " 860030360,\n",
       " 860501682,\n",
       " 890117431,\n",
       " 890300012,\n",
       " 890311366,\n",
       " 890904459,\n",
       " 890929951,\n",
       " 900234565,\n",
       " 900389088,\n",
       " 900437650]"
      ]
     },
     "execution_count": 30,
     "metadata": {},
     "output_type": "execute_result"
    }
   ],
   "source": [
    "best_empresa_com[1]"
   ]
  },
  {
   "cell_type": "code",
   "execution_count": 22,
   "metadata": {},
   "outputs": [
    {
     "data": {
      "text/plain": [
       "[800015615,\n",
       " 800045720,\n",
       " 800081030,\n",
       " 800112440,\n",
       " 800118660,\n",
       " 800157469,\n",
       " 800232356,\n",
       " 800236890,\n",
       " 801002644,\n",
       " 805012368,\n",
       " 806014553,\n",
       " 830030574,\n",
       " 830037495,\n",
       " 860009694,\n",
       " 860033653,\n",
       " 860050956,\n",
       " 890929951,\n",
       " 900184722,\n",
       " 900234565,\n",
       " 900378893,\n",
       " 900389088,\n",
       " 900437650]"
      ]
     },
     "execution_count": 22,
     "metadata": {},
     "output_type": "execute_result"
    }
   ],
   "source": [
    "### Mejor combinacion de empresas\n",
    "emp1"
   ]
  },
  {
   "cell_type": "code",
   "execution_count": 23,
   "metadata": {},
   "outputs": [
    {
     "data": {
      "text/plain": [
       "[830052054,\n",
       " 860030360,\n",
       " 860501682,\n",
       " 890117431,\n",
       " 890300012,\n",
       " 890311366,\n",
       " 890904459,\n",
       " 890909034,\n",
       " 900173460,\n",
       " 900204182,\n",
       " 900364670]"
      ]
     },
     "execution_count": 23,
     "metadata": {},
     "output_type": "execute_result"
    }
   ],
   "source": [
    "emp2"
   ]
  },
  {
   "cell_type": "code",
   "execution_count": null,
   "metadata": {},
   "outputs": [],
   "source": []
  }
 ],
 "metadata": {
  "kernelspec": {
   "display_name": "Python 3",
   "language": "python",
   "name": "python3"
  },
  "language_info": {
   "codemirror_mode": {
    "name": "ipython",
    "version": 3
   },
   "file_extension": ".py",
   "mimetype": "text/x-python",
   "name": "python",
   "nbconvert_exporter": "python",
   "pygments_lexer": "ipython3",
   "version": "3.7.6"
  }
 },
 "nbformat": 4,
 "nbformat_minor": 2
}
