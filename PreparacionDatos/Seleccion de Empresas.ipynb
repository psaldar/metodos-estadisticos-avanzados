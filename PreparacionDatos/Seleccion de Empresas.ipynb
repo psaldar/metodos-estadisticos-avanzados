{
 "cells": [
  {
   "cell_type": "code",
   "execution_count": null,
   "metadata": {},
   "outputs": [],
   "source": []
  },
  {
   "cell_type": "code",
   "execution_count": null,
   "metadata": {},
   "outputs": [],
   "source": []
  },
  {
   "cell_type": "code",
   "execution_count": 1,
   "metadata": {},
   "outputs": [],
   "source": [
    "import random\n",
    "import numpy as np\n",
    "import pandas as pd\n",
    "from itertools import combinations\n",
    "from sklearn.preprocessing import StandardScaler"
   ]
  },
  {
   "cell_type": "code",
   "execution_count": null,
   "metadata": {},
   "outputs": [],
   "source": []
  },
  {
   "cell_type": "code",
   "execution_count": 5,
   "metadata": {},
   "outputs": [],
   "source": [
    "data = pd.read_csv('Datos_completos.csv')\n",
    "data = data.drop(columns = ['Costo de ventas','Gastos de ventas'])\n",
    "empresas = data['NIT'].unique()"
   ]
  },
  {
   "cell_type": "code",
   "execution_count": 6,
   "metadata": {},
   "outputs": [
    {
     "data": {
      "text/plain": [
       "33"
      ]
     },
     "execution_count": 6,
     "metadata": {},
     "output_type": "execute_result"
    }
   ],
   "source": [
    "### Cantidad de empresas\n",
    "len(empresas)"
   ]
  },
  {
   "cell_type": "code",
   "execution_count": null,
   "metadata": {},
   "outputs": [],
   "source": []
  },
  {
   "cell_type": "code",
   "execution_count": 6,
   "metadata": {},
   "outputs": [],
   "source": [
    "def diff_media(data, empresas1, empresas2):\n",
    "    \n",
    "    scaler = StandardScaler()\n",
    "    scaler.fit(data.drop(columns = ['NIT','Year']))\n",
    "    \n",
    "    data_empresa1 = scaler.transform(data[data['NIT'].isin(empresas1)].drop(columns = ['NIT','Year'])) \n",
    "    data_empresa2 = scaler.transform(data[data['NIT'].isin(empresas2)].drop(columns = ['NIT','Year']))\n",
    "  \n",
    "    mean_empresa1 = np.mean(data_empresa1, axis = 0, keepdims=True)\n",
    "    mean_empresa2 = np.mean(data_empresa2, axis = 0, keepdims=True)\n",
    "    \n",
    "    norm_dif = np.linalg.norm(mean_empresa1-mean_empresa2,  ord = 2 )\n",
    "    \n",
    "    return norm_dif"
   ]
  },
  {
   "cell_type": "code",
   "execution_count": 7,
   "metadata": {
    "scrolled": false
   },
   "outputs": [
    {
     "name": "stdout",
     "output_type": "stream",
     "text": [
      "0.4991720227046567 0\n",
      "0.25796725839653883 2\n",
      "0.1917444339373911 34\n",
      "0.17387259040662428 41\n",
      "0.11394047341459353 100\n",
      "0.056198358893702435 255\n",
      "0.03671743927293176 541\n",
      "0.036606140686489645 665\n",
      "0.016988808836539027 1158\n",
      "0.01268843986451623 7121\n",
      "0.011849296980295446 11202\n",
      "0.007085957868787957 11669\n",
      "0.006209847858171331 22674\n",
      "Wall time: 5min 41s\n"
     ]
    }
   ],
   "source": [
    "%%time\n",
    "\n",
    "np.random.seed(42)\n",
    "best_norm = np.inf\n",
    "best_empresa_comb = None\n",
    "lim = 25000\n",
    "cont = 0\n",
    "for p in combinations(empresas, 22):\n",
    "    \n",
    "    emp1 = [emp for emp in empresas if emp in p]\n",
    "    emp2 = [emp for emp in empresas if not emp in p]\n",
    "    \n",
    "    norm_value = diff_media(data, emp1, emp2)\n",
    "    \n",
    "    if norm_value < best_norm:\n",
    "        print(norm_value, cont)\n",
    "        best_empresa_com = (emp1,emp2)\n",
    "        best_norm = norm_value\n",
    "    \n",
    "    cont += 1\n",
    "    if cont == lim:\n",
    "        break"
   ]
  },
  {
   "cell_type": "code",
   "execution_count": 9,
   "metadata": {},
   "outputs": [
    {
     "data": {
      "text/plain": [
       "[800015615,\n",
       " 800045720,\n",
       " 800081030,\n",
       " 800112440,\n",
       " 800118660,\n",
       " 800157469,\n",
       " 800232356,\n",
       " 800236890,\n",
       " 801002644,\n",
       " 805012368,\n",
       " 806014553,\n",
       " 830030574,\n",
       " 830037495,\n",
       " 830052054,\n",
       " 860009694,\n",
       " 860050956,\n",
       " 890904459,\n",
       " 890909034,\n",
       " 900173460,\n",
       " 900204182,\n",
       " 900234565,\n",
       " 900378893]"
      ]
     },
     "execution_count": 9,
     "metadata": {},
     "output_type": "execute_result"
    }
   ],
   "source": [
    "### Mejor combinacion de empresas\n",
    "emp1"
   ]
  },
  {
   "cell_type": "code",
   "execution_count": 22,
   "metadata": {},
   "outputs": [
    {
     "data": {
      "text/plain": [
       "[806014553,\n",
       " 830037495,\n",
       " 830052054,\n",
       " 860033653,\n",
       " 860501682,\n",
       " 890300012,\n",
       " 890909034,\n",
       " 890929951,\n",
       " 900204182,\n",
       " 900378893,\n",
       " 900437650]"
      ]
     },
     "execution_count": 22,
     "metadata": {},
     "output_type": "execute_result"
    }
   ],
   "source": [
    "emp2"
   ]
  },
  {
   "cell_type": "code",
   "execution_count": null,
   "metadata": {},
   "outputs": [],
   "source": []
  }
 ],
 "metadata": {
  "kernelspec": {
   "display_name": "Python 3",
   "language": "python",
   "name": "python3"
  },
  "language_info": {
   "codemirror_mode": {
    "name": "ipython",
    "version": 3
   },
   "file_extension": ".py",
   "mimetype": "text/x-python",
   "name": "python",
   "nbconvert_exporter": "python",
   "pygments_lexer": "ipython3",
   "version": "3.7.6"
  }
 },
 "nbformat": 4,
 "nbformat_minor": 2
}
