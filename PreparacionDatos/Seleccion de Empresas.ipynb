{
 "cells": [
  {
   "cell_type": "markdown",
   "metadata": {},
   "source": [
    "# Selección de Conjunto de Empresas para Entrenar y Validar modelo"
   ]
  },
  {
   "cell_type": "markdown",
   "metadata": {},
   "source": [
    "##### Estudiantes:\n",
    "\n",
    "- Obed Rios-Ruiz\n",
    "- Nicolas Prieto-Escobar\n",
    "- Pablo A. Saldarriaga-Aristizabal"
   ]
  },
  {
   "cell_type": "markdown",
   "metadata": {},
   "source": [
    "Como parte de las tareas que se tienen en el desarrollo del trabajo, está la partición del conjunto de datos en dos subconjuntos, uno para la creación/entrenamiento del modelo, y otro conjunto de datos que permita evaluar la el desempeño o capacidad predictiva del modelo creado en un conjunto de datos que el modelo no ha visto. Para el trabajo, estamos considerando información de variables macroeconómicas entre los años 2016 a 2018, al igual que información de los costos de venta de 33 empresas del sector de la Construcción.\n",
    "\n",
    "Por las características del conjunto de datos, al igual que del problema que se estudia, se considera conveniente realizar la partición de los datos en base a las empresas. Por lo tanto, se desea tener la información de 22 empresas para entrenar el modelo, y la información de las 33 restantes para probar el modelo."
   ]
  },
  {
   "cell_type": "code",
   "execution_count": 1,
   "metadata": {},
   "outputs": [],
   "source": [
    "### Realizamos la importación de los paquetes necesarios para la ejecución del notebook\n",
    "import numpy as np\n",
    "import pandas as pd\n",
    "from itertools import combinations"
   ]
  },
  {
   "cell_type": "code",
   "execution_count": 2,
   "metadata": {},
   "outputs": [],
   "source": [
    "### Realizamos la lectura del conjunto de datos, además de obtener una lista de todos los NITs de las empresas que\n",
    "### estamos considerando\n",
    "data = pd.read_csv('Datos_completos.csv')\n",
    "data = data.drop(columns = ['Costo de ventas','Gastos de ventas'])\n",
    "empresas = data['NIT'].unique()"
   ]
  },
  {
   "cell_type": "code",
   "execution_count": 3,
   "metadata": {},
   "outputs": [
    {
     "name": "stdout",
     "output_type": "stream",
     "text": [
      "Se tienen 33 empresas diferentes en el conjunto de datos\n"
     ]
    }
   ],
   "source": [
    "### Cantidad de empresas\n",
    "print(f'Se tienen {len(empresas)} empresas diferentes en el conjunto de datos')"
   ]
  },
  {
   "cell_type": "markdown",
   "metadata": {},
   "source": [
    "Dentro del proceso de evaluación de qué tan bueno es la combinación de empresas considerada en los conjuntos de train y test, consideraremos la métrica del error cuadrático entre el promedio de diferencia de costos de ventas para cada conjunto, por lo que la expresión corresponde a:\n",
    "\n",
    "$$\n",
    "EC =  (\\dfrac{1}{22}\\sum_{i=1}^{22} DataEmpresaTrain(CostoDeVentasDiff) -\n",
    "\\dfrac{1}{11}\\sum_{i=1}^{11} DataEmpresaTest(CostoDeVentasDiff))^{2}\n",
    "$$\n",
    "\n",
    "Asi en el proceso que sigue a continuación, consideraremos las primeras 100.000 combinaciones posibles de las empresas para el conjunto train y test (obtenidos por la función combinations del paquete itertools), y nos quedaremos con aquella combinación de conjuntos que minimice el EC mencionado anteriormente"
   ]
  },
  {
   "cell_type": "code",
   "execution_count": 4,
   "metadata": {},
   "outputs": [],
   "source": [
    "def diff_media(data, empresas1, empresas2):\n",
    "    \n",
    "    data_empresa1 = data[data['NIT'].isin(empresas1)]['Costo de ventas_dif'] \n",
    "    data_empresa2 = data[data['NIT'].isin(empresas2)]['Costo de ventas_dif']\n",
    "  \n",
    "    mean_empresa1 = data_empresa1.mean()\n",
    "    mean_empresa2 = data_empresa2.mean()\n",
    "    \n",
    "    norm_dif = (mean_empresa1-mean_empresa2)**2\n",
    "    \n",
    "    return norm_dif"
   ]
  },
  {
   "cell_type": "code",
   "execution_count": 5,
   "metadata": {
    "scrolled": false
   },
   "outputs": [
    {
     "name": "stdout",
     "output_type": "stream",
     "text": [
      "0.016770199391232855 0\n",
      "0.0038988992173910626 2\n",
      "0.0020920726060926495 34\n",
      "8.724805312215589e-05 41\n",
      "4.217734972101327e-05 251\n",
      "3.270327613552945e-06 264\n",
      "1.360494145224962e-06 661\n",
      "5.324934345321799e-07 759\n",
      "2.512490867977149e-07 760\n",
      "1.5235191104070993e-08 1055\n",
      "7.155460472918056e-09 4131\n",
      "4.5359346093228465e-09 4232\n",
      "2.611001864883461e-09 9344\n",
      "2.3140959472729717e-10 19081\n",
      "1.7335723581479037e-10 23527\n",
      "5.297777131209481e-12 23930\n",
      "3.2645956171741084e-12 99899\n",
      "Wall time: 2min 6s\n"
     ]
    }
   ],
   "source": [
    "%%time\n",
    "\n",
    "np.random.seed(42)\n",
    "best_norm = np.inf\n",
    "best_empresa_comb = None\n",
    "lim = 100000\n",
    "cont = 0\n",
    "for p in combinations(empresas, 22):\n",
    "    \n",
    "    emp1 = [emp for emp in empresas if emp in p]\n",
    "    emp2 = [emp for emp in empresas if not emp in emp1]\n",
    "    \n",
    "    norm_value = diff_media(data, emp1, emp2)\n",
    "    \n",
    "    if norm_value < best_norm:\n",
    "        print(norm_value, cont)\n",
    "        best_empresa_com = (emp1,emp2)\n",
    "        best_norm = norm_value\n",
    "    \n",
    "    cont += 1\n",
    "    if cont == lim:\n",
    "        break"
   ]
  },
  {
   "cell_type": "code",
   "execution_count": 6,
   "metadata": {},
   "outputs": [
    {
     "name": "stdout",
     "output_type": "stream",
     "text": [
      "El promedio de la diferencia de los costos de venta en el conjunto de entrenamiento es -0.03801533473757241\n"
     ]
    }
   ],
   "source": [
    "data_empresas1 = data[data['NIT'].isin(best_empresa_com[0])]['Costo de ventas_dif'] \n",
    "print(f'El promedio de la diferencia de los costos de venta en el conjunto de entrenamiento es {data_empresas1.mean()}')"
   ]
  },
  {
   "cell_type": "code",
   "execution_count": 7,
   "metadata": {},
   "outputs": [
    {
     "name": "stdout",
     "output_type": "stream",
     "text": [
      "El promedio de la diferencia de los costos de venta en el conjunto de entrenamiento es -0.038013527918373605\n"
     ]
    }
   ],
   "source": [
    "data_empresas2 = data[data['NIT'].isin(best_empresa_com[1])]['Costo de ventas_dif'] \n",
    "print(f'El promedio de la diferencia de los costos de venta en el conjunto de entrenamiento es {data_empresas2.mean()}')"
   ]
  },
  {
   "cell_type": "code",
   "execution_count": 8,
   "metadata": {},
   "outputs": [
    {
     "name": "stdout",
     "output_type": "stream",
     "text": [
      "Validamos el valor del error cuadratico obtenido: 3.2645956171741084e-12\n"
     ]
    }
   ],
   "source": [
    "mean_empresas1 = data_empresas1.mean()\n",
    "mean_empresas2 = data_empresas2.mean()\n",
    "\n",
    "norm_dif = (mean_empresas1-mean_empresas2)**2\n",
    "\n",
    "print(f'Validamos el valor del error cuadratico obtenido: {norm_dif}')"
   ]
  },
  {
   "cell_type": "code",
   "execution_count": 9,
   "metadata": {},
   "outputs": [
    {
     "name": "stdout",
     "output_type": "stream",
     "text": [
      "las empresas a considerar en el conjunto de entrenamiento son: [800015615, 800045720, 800081030, 800112440, 800118660, 800157469, 800232356, 800236890, 801002644, 805012368, 806014553, 830030574, 830037495, 860009694, 860033653, 860050956, 890909034, 900173460, 900184722, 900204182, 900364670, 900378893]\n"
     ]
    }
   ],
   "source": [
    "print(f\"las empresas a considerar en el conjunto de entrenamiento son: {best_empresa_com[0]}\")"
   ]
  },
  {
   "cell_type": "code",
   "execution_count": 10,
   "metadata": {},
   "outputs": [
    {
     "name": "stdout",
     "output_type": "stream",
     "text": [
      "las empresas a considerar en el conjunto de prueba son: [830052054, 860030360, 860501682, 890117431, 890300012, 890311366, 890904459, 890929951, 900234565, 900389088, 900437650]\n"
     ]
    }
   ],
   "source": [
    "print(f\"las empresas a considerar en el conjunto de prueba son: {best_empresa_com[1]}\")"
   ]
  },
  {
   "cell_type": "markdown",
   "metadata": {},
   "source": [
    "Seguido este proceso, utilizamos los conjuntos de empresas obtenidos en este Notebook para realizar la partición del conjunto de datos en el archivo de Markdown que incluye todo el proceso de modelación y creación de modelos."
   ]
  }
 ],
 "metadata": {
  "kernelspec": {
   "display_name": "Python 3",
   "language": "python",
   "name": "python3"
  },
  "language_info": {
   "codemirror_mode": {
    "name": "ipython",
    "version": 3
   },
   "file_extension": ".py",
   "mimetype": "text/x-python",
   "name": "python",
   "nbconvert_exporter": "python",
   "pygments_lexer": "ipython3",
   "version": "3.7.6"
  }
 },
 "nbformat": 4,
 "nbformat_minor": 2
}
